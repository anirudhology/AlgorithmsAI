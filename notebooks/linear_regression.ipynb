{
 "cells": [
  {
   "cell_type": "markdown",
   "metadata": {},
   "source": [
    "# Linear Regression\n",
    "\n",
    "This jupyter notebook has code to test the implementations of various types of Linear Regression algorithms. Following are the approaches we will take to implement Linear Regression\n",
    "1. Ordinary Least Squares\n",
    "2. Gradient Descent"
   ]
  },
  {
   "cell_type": "markdown",
   "metadata": {},
   "source": [
    "## Set the project root in the Python path"
   ]
  },
  {
   "cell_type": "code",
   "execution_count": 1,
   "metadata": {},
   "outputs": [],
   "source": [
    "import os\n",
    "import sys\n",
    "\n",
    "# Get the absolute path of the current directory\n",
    "current_dir = os.getcwd()\n",
    "\n",
    "# Navigate to the parent directory\n",
    "parent_dir = os.path.abspath(os.path.join(current_dir, os.pardir))\n",
    "\n",
    "# Add the parent directory to the Python path\n",
    "sys.path.append(parent_dir)"
   ]
  },
  {
   "cell_type": "markdown",
   "metadata": {},
   "source": [
    "## 1. Test ordinary least squares implementation. \n",
    "Steps to follow - \n",
    "- Create random set of inputs and outputes using numpy.\n",
    "- In the input, we are following the relationship `y = 3*x + 4 + noise`.\n",
    "- The aim is to recover this relationship by finding the coefficients and intercept terms.\n",
    "- At the end, we will test the known relationship for new values of x."
   ]
  },
  {
   "cell_type": "code",
   "execution_count": 2,
   "metadata": {},
   "outputs": [
    {
     "name": "stdout",
     "output_type": "stream",
     "text": [
      "Coefficients: [[2.69961622]]\n",
      "Intercept: [4.29869046]\n",
      "Predictions for X_test: [[4.29869046]\n",
      " [9.6979229 ]]\n"
     ]
    }
   ],
   "source": [
    "from algorithms.supervised.regression.linear.LinearRegressionOLS import LinearRegressionOLS\n",
    "import numpy as np\n",
    "\n",
    "X = 2 * np.random.rand(100, 1)\n",
    "y = 4 + 3 * X + np.random.randn(100, 1)\n",
    "\n",
    "# Initialize the model\n",
    "linear_regression = LinearRegressionOLS()\n",
    "\n",
    "# Fit the model\n",
    "linear_regression.fit(X, y)\n",
    "\n",
    "# Make predictions\n",
    "X_test = np.array([[0], [2]])\n",
    "y_predicted = linear_regression.predict(X_test)\n",
    "\n",
    "print(\"Coefficients:\", linear_regression.coefficients)\n",
    "print(\"Intercept:\", linear_regression.intercept)\n",
    "print(\"Predictions for X_test:\", y_predicted)"
   ]
  },
  {
   "cell_type": "markdown",
   "metadata": {},
   "source": [
    "### Error rate\n",
    "Let's find the error rate for the predicted values. The most common way to find error rate of linear regression algorithms is by **mean squared error** method.\n",
    "The true value of `y` is `3x + 4`, i.e., `y_true = 3x + 4`. Then, the **mean squared error** would be determined by comparing `y_true` and `y_predicted`."
   ]
  },
  {
   "cell_type": "code",
   "execution_count": 3,
   "metadata": {},
   "outputs": [
    {
     "name": "stdout",
     "output_type": "stream",
     "text": [
      "MSE: 0.09023328082093227\n"
     ]
    }
   ],
   "source": [
    "from sklearn.metrics import mean_squared_error\n",
    "\n",
    "y_true = 3*X_test + 4\n",
    "mse = mean_squared_error(y_true, y_predicted)\n",
    "print(\"MSE:\", mse)"
   ]
  },
  {
   "cell_type": "code",
   "execution_count": null,
   "metadata": {},
   "outputs": [],
   "source": []
  }
 ],
 "metadata": {
  "kernelspec": {
   "display_name": "Python 3 (ipykernel)",
   "language": "python",
   "name": "python3"
  },
  "language_info": {
   "codemirror_mode": {
    "name": "ipython",
    "version": 3
   },
   "file_extension": ".py",
   "mimetype": "text/x-python",
   "name": "python",
   "nbconvert_exporter": "python",
   "pygments_lexer": "ipython3",
   "version": "3.12.2"
  }
 },
 "nbformat": 4,
 "nbformat_minor": 4
}
